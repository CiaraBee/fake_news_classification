{
  "nbformat": 4,
  "nbformat_minor": 0,
  "metadata": {
    "colab": {
      "name": "Copy of clean_fake_news_classification.ipynb",
      "provenance": [],
      "collapsed_sections": [],
      "toc_visible": true,
      "machine_shape": "hm"
    },
    "kernelspec": {
      "display_name": "Python 3",
      "name": "python3"
    },
    "language_info": {
      "name": "python"
    },
    "accelerator": "GPU"
  },
  "cells": [
    {
      "cell_type": "markdown",
      "metadata": {
        "id": "hVy-jKcM3JOk"
      },
      "source": [
        "# Install packages"
      ]
    },
    {
      "cell_type": "code",
      "metadata": {
        "id": "-Y6PraRcvBqp",
        "colab": {
          "base_uri": "https://localhost:8080/"
        },
        "outputId": "74226015-2386-47a5-b662-65b664a629f2"
      },
      "source": [
        "!pip install transformers\n",
        "!pip install datasets"
      ],
      "execution_count": 1,
      "outputs": [
        {
          "output_type": "stream",
          "text": [
            "Collecting transformers\n",
            "  Downloading transformers-4.9.2-py3-none-any.whl (2.6 MB)\n",
            "\u001b[K     |████████████████████████████████| 2.6 MB 3.9 MB/s \n",
            "\u001b[?25hRequirement already satisfied: filelock in /usr/local/lib/python3.7/dist-packages (from transformers) (3.0.12)\n",
            "Collecting pyyaml>=5.1\n",
            "  Downloading PyYAML-5.4.1-cp37-cp37m-manylinux1_x86_64.whl (636 kB)\n",
            "\u001b[K     |████████████████████████████████| 636 kB 73.6 MB/s \n",
            "\u001b[?25hRequirement already satisfied: regex!=2019.12.17 in /usr/local/lib/python3.7/dist-packages (from transformers) (2019.12.20)\n",
            "Requirement already satisfied: requests in /usr/local/lib/python3.7/dist-packages (from transformers) (2.23.0)\n",
            "Requirement already satisfied: numpy>=1.17 in /usr/local/lib/python3.7/dist-packages (from transformers) (1.19.5)\n",
            "Requirement already satisfied: importlib-metadata in /usr/local/lib/python3.7/dist-packages (from transformers) (4.6.4)\n",
            "Collecting huggingface-hub==0.0.12\n",
            "  Downloading huggingface_hub-0.0.12-py3-none-any.whl (37 kB)\n",
            "Collecting sacremoses\n",
            "  Downloading sacremoses-0.0.45-py3-none-any.whl (895 kB)\n",
            "\u001b[K     |████████████████████████████████| 895 kB 74.2 MB/s \n",
            "\u001b[?25hCollecting tokenizers<0.11,>=0.10.1\n",
            "  Downloading tokenizers-0.10.3-cp37-cp37m-manylinux_2_5_x86_64.manylinux1_x86_64.manylinux_2_12_x86_64.manylinux2010_x86_64.whl (3.3 MB)\n",
            "\u001b[K     |████████████████████████████████| 3.3 MB 23.3 MB/s \n",
            "\u001b[?25hRequirement already satisfied: packaging in /usr/local/lib/python3.7/dist-packages (from transformers) (21.0)\n",
            "Requirement already satisfied: tqdm>=4.27 in /usr/local/lib/python3.7/dist-packages (from transformers) (4.62.0)\n",
            "Requirement already satisfied: typing-extensions in /usr/local/lib/python3.7/dist-packages (from huggingface-hub==0.0.12->transformers) (3.7.4.3)\n",
            "Requirement already satisfied: pyparsing>=2.0.2 in /usr/local/lib/python3.7/dist-packages (from packaging->transformers) (2.4.7)\n",
            "Requirement already satisfied: zipp>=0.5 in /usr/local/lib/python3.7/dist-packages (from importlib-metadata->transformers) (3.5.0)\n",
            "Requirement already satisfied: idna<3,>=2.5 in /usr/local/lib/python3.7/dist-packages (from requests->transformers) (2.10)\n",
            "Requirement already satisfied: urllib3!=1.25.0,!=1.25.1,<1.26,>=1.21.1 in /usr/local/lib/python3.7/dist-packages (from requests->transformers) (1.24.3)\n",
            "Requirement already satisfied: chardet<4,>=3.0.2 in /usr/local/lib/python3.7/dist-packages (from requests->transformers) (3.0.4)\n",
            "Requirement already satisfied: certifi>=2017.4.17 in /usr/local/lib/python3.7/dist-packages (from requests->transformers) (2021.5.30)\n",
            "Requirement already satisfied: joblib in /usr/local/lib/python3.7/dist-packages (from sacremoses->transformers) (1.0.1)\n",
            "Requirement already satisfied: six in /usr/local/lib/python3.7/dist-packages (from sacremoses->transformers) (1.15.0)\n",
            "Requirement already satisfied: click in /usr/local/lib/python3.7/dist-packages (from sacremoses->transformers) (7.1.2)\n",
            "Installing collected packages: tokenizers, sacremoses, pyyaml, huggingface-hub, transformers\n",
            "  Attempting uninstall: pyyaml\n",
            "    Found existing installation: PyYAML 3.13\n",
            "    Uninstalling PyYAML-3.13:\n",
            "      Successfully uninstalled PyYAML-3.13\n",
            "Successfully installed huggingface-hub-0.0.12 pyyaml-5.4.1 sacremoses-0.0.45 tokenizers-0.10.3 transformers-4.9.2\n",
            "Collecting datasets\n",
            "  Downloading datasets-1.11.0-py3-none-any.whl (264 kB)\n",
            "\u001b[K     |████████████████████████████████| 264 kB 4.3 MB/s \n",
            "\u001b[?25hRequirement already satisfied: requests>=2.19.0 in /usr/local/lib/python3.7/dist-packages (from datasets) (2.23.0)\n",
            "Collecting xxhash\n",
            "  Downloading xxhash-2.0.2-cp37-cp37m-manylinux2010_x86_64.whl (243 kB)\n",
            "\u001b[K     |████████████████████████████████| 243 kB 60.5 MB/s \n",
            "\u001b[?25hRequirement already satisfied: numpy>=1.17 in /usr/local/lib/python3.7/dist-packages (from datasets) (1.19.5)\n",
            "Collecting fsspec>=2021.05.0\n",
            "  Downloading fsspec-2021.7.0-py3-none-any.whl (118 kB)\n",
            "\u001b[K     |████████████████████████████████| 118 kB 62.4 MB/s \n",
            "\u001b[?25hRequirement already satisfied: packaging in /usr/local/lib/python3.7/dist-packages (from datasets) (21.0)\n",
            "Requirement already satisfied: multiprocess in /usr/local/lib/python3.7/dist-packages (from datasets) (0.70.12.2)\n",
            "Requirement already satisfied: importlib-metadata in /usr/local/lib/python3.7/dist-packages (from datasets) (4.6.4)\n",
            "Requirement already satisfied: pyarrow!=4.0.0,>=1.0.0 in /usr/local/lib/python3.7/dist-packages (from datasets) (3.0.0)\n",
            "Requirement already satisfied: dill in /usr/local/lib/python3.7/dist-packages (from datasets) (0.3.4)\n",
            "Requirement already satisfied: tqdm>=4.42 in /usr/local/lib/python3.7/dist-packages (from datasets) (4.62.0)\n",
            "Requirement already satisfied: huggingface-hub<0.1.0 in /usr/local/lib/python3.7/dist-packages (from datasets) (0.0.12)\n",
            "Requirement already satisfied: pandas in /usr/local/lib/python3.7/dist-packages (from datasets) (1.1.5)\n",
            "Requirement already satisfied: typing-extensions in /usr/local/lib/python3.7/dist-packages (from huggingface-hub<0.1.0->datasets) (3.7.4.3)\n",
            "Requirement already satisfied: filelock in /usr/local/lib/python3.7/dist-packages (from huggingface-hub<0.1.0->datasets) (3.0.12)\n",
            "Requirement already satisfied: pyparsing>=2.0.2 in /usr/local/lib/python3.7/dist-packages (from packaging->datasets) (2.4.7)\n",
            "Requirement already satisfied: chardet<4,>=3.0.2 in /usr/local/lib/python3.7/dist-packages (from requests>=2.19.0->datasets) (3.0.4)\n",
            "Requirement already satisfied: idna<3,>=2.5 in /usr/local/lib/python3.7/dist-packages (from requests>=2.19.0->datasets) (2.10)\n",
            "Requirement already satisfied: certifi>=2017.4.17 in /usr/local/lib/python3.7/dist-packages (from requests>=2.19.0->datasets) (2021.5.30)\n",
            "Requirement already satisfied: urllib3!=1.25.0,!=1.25.1,<1.26,>=1.21.1 in /usr/local/lib/python3.7/dist-packages (from requests>=2.19.0->datasets) (1.24.3)\n",
            "Requirement already satisfied: zipp>=0.5 in /usr/local/lib/python3.7/dist-packages (from importlib-metadata->datasets) (3.5.0)\n",
            "Requirement already satisfied: pytz>=2017.2 in /usr/local/lib/python3.7/dist-packages (from pandas->datasets) (2018.9)\n",
            "Requirement already satisfied: python-dateutil>=2.7.3 in /usr/local/lib/python3.7/dist-packages (from pandas->datasets) (2.8.2)\n",
            "Requirement already satisfied: six>=1.5 in /usr/local/lib/python3.7/dist-packages (from python-dateutil>=2.7.3->pandas->datasets) (1.15.0)\n",
            "Installing collected packages: xxhash, fsspec, datasets\n",
            "Successfully installed datasets-1.11.0 fsspec-2021.7.0 xxhash-2.0.2\n"
          ],
          "name": "stdout"
        }
      ]
    },
    {
      "cell_type": "code",
      "metadata": {
        "id": "sm0x1cYmJ4s_",
        "colab": {
          "base_uri": "https://localhost:8080/"
        },
        "outputId": "20661690-7617-4646-f434-9afa79f3648f"
      },
      "source": [
        "#import packages\n",
        "\n",
        "import numpy as np\n",
        "import pandas as pd\n",
        "import sklearn\n",
        "from sklearn import metrics\n",
        "from sklearn.metrics import precision_recall_fscore_support, accuracy_score, precision_score, recall_score, f1_score\n",
        "import transformers\n",
        "import torch\n",
        "from torch.utils.data import Dataset, DataLoader, RandomSampler, SequentialSampler\n",
        "from transformers import BertTokenizer, BertModel, BertConfig, DistilBertForSequenceClassification, Trainer, TrainingArguments, AutoModelForSequenceClassification, AutoTokenizer, DistilBertTokenizerFast\n",
        "import seaborn as sns\n",
        "import re\n",
        "import os\n",
        "import nltk\n",
        "nltk.download('punkt')\n",
        "from nltk.tokenize import word_tokenize\n",
        "nltk.download('stopwords')\n",
        "from nltk.corpus import stopwords\n",
        "from keras.preprocessing.text import Tokenizer\n",
        "from tensorflow.keras.preprocessing.sequence import pad_sequences\n",
        "import matplotlib.pyplot as plt\n",
        "from sklearn.linear_model import LogisticRegression\n",
        "from sklearn.naive_bayes import MultinomialNB, ComplementNB\n",
        "from sklearn.ensemble import RandomForestClassifier, ExtraTreesClassifier\n",
        "from sklearn.model_selection import train_test_split\n",
        "from sklearn.tree import DecisionTreeClassifier\n",
        "import pickle as pkl\n",
        "import tensorflow as tf\n",
        "from keras.callbacks import ModelCheckpoint\n",
        "from keras.layers import Dense, Activation, Embedding, TimeDistributed, Dropout, LSTM\n",
        "from keras.models import Sequential, load_model\n",
        "from datasets import load_metric\n",
        "import plotly.express as px\n",
        "from sklearn.feature_extraction.text import TfidfVectorizer, CountVectorizer"
      ],
      "execution_count": 95,
      "outputs": [
        {
          "output_type": "stream",
          "text": [
            "[nltk_data] Downloading package punkt to /root/nltk_data...\n",
            "[nltk_data]   Package punkt is already up-to-date!\n",
            "[nltk_data] Downloading package stopwords to /root/nltk_data...\n",
            "[nltk_data]   Package stopwords is already up-to-date!\n"
          ],
          "name": "stdout"
        }
      ]
    },
    {
      "cell_type": "markdown",
      "metadata": {
        "id": "JGukEcOvujYx"
      },
      "source": [
        "Load helper functions"
      ]
    },
    {
      "cell_type": "code",
      "metadata": {
        "id": "7F7xHXErsbat"
      },
      "source": [
        "#function to create fakenewsdataset class to be input into transfomer for testing\n",
        "\n",
        "def transformer(model, tokenizer, test_texts, test_labels):\n",
        "\n",
        "    test_encodings = tokenizer(test_texts, truncation=True, padding=True)\n",
        "\n",
        "    class fake_news_dataset(torch.utils.data.Dataset):\n",
        "        def __init__(self, encodings, labels):\n",
        "            self.encodings = encodings\n",
        "            self.labels = labels\n",
        "\n",
        "        def __getitem__(self, idx):\n",
        "           item = {key: torch.tensor(val[idx]) for key, val in self.encodings.items()}\n",
        "           item['labels'] = torch.tensor(self.labels[idx])\n",
        "           return item\n",
        "\n",
        "        def __len__(self):\n",
        "            return len(self.labels)\n",
        "\n",
        "    test_dataset = fake_news_dataset(test_encodings, test_labels)\n",
        "\n",
        "    return test_dataset"
      ],
      "execution_count": 3,
      "outputs": []
    },
    {
      "cell_type": "code",
      "metadata": {
        "id": "P3WOG5ZCshMm"
      },
      "source": [
        "#function to create training, validation and testing datasets to be used for transformer training\n",
        "\n",
        "def transformer_train_val_test(model, tokenizer, text, labels):\n",
        "\n",
        "    train_texts, test_texts, train_labels, test_labels = train_test_split(text, labels, test_size=.2)\n",
        "    train_texts, val_texts, train_labels, val_labels = train_test_split(train_texts, train_labels, test_size=.2)\n",
        "\n",
        "    train_encodings = tokenizer(train_texts, truncation=True, padding=True)\n",
        "    val_encodings = tokenizer(val_texts, truncation=True, padding=True)\n",
        "    test_encodings = tokenizer(test_texts, truncation=True, padding=True)\n",
        "\n",
        "    class fake_news_dataset(torch.utils.data.Dataset):\n",
        "        def __init__(self, encodings, labels):\n",
        "            self.encodings = encodings\n",
        "            self.labels = labels\n",
        "\n",
        "        def __getitem__(self, idx):\n",
        "           item = {key: torch.tensor(val[idx]) for key, val in self.encodings.items()}\n",
        "           item['labels'] = torch.tensor(self.labels[idx])\n",
        "           return item\n",
        "\n",
        "\n",
        "        def __len__(self):\n",
        "            return len(self.labels)\n",
        "\n",
        " \n",
        "    train_dataset = fake_news_dataset(train_encodings, train_labels)\n",
        "    val_dataset = fake_news_dataset(val_encodings, val_labels)\n",
        "    test_dataset = fake_news_dataset(test_encodings, test_labels)\n",
        "\n",
        "    return train_dataset, val_dataset, test_dataset"
      ],
      "execution_count": 4,
      "outputs": []
    },
    {
      "cell_type": "code",
      "metadata": {
        "id": "nHV-3Xq3tDo3"
      },
      "source": [
        "#function to turn x and y variables into lists, ready for processing into fakenewsdataset objects\n",
        "\n",
        "def transformer_preprocessing(x, y):\n",
        "    x = x.tolist()\n",
        "    y = y.tolist()\n",
        "    return x,y"
      ],
      "execution_count": 5,
      "outputs": []
    },
    {
      "cell_type": "code",
      "metadata": {
        "id": "_m3BtOwnttTI"
      },
      "source": [
        "#function to return evaluation metrics reported\n",
        "\n",
        "def compute_metrics(eval_pred):\n",
        "    logits, labels = eval_pred\n",
        "    predictions = np.argmax(logits, axis=-1)\n",
        "    precision, recall, f1, _ = precision_recall_fscore_support(labels, predictions, average= 'macro')\n",
        "    return {\n",
        "        'f1': f1,\n",
        "        \n",
        "        'precision': precision,\n",
        "        'recall': recall,\n",
        "        'accuracy': accuracy_score(labels, predictions)\n",
        "    }"
      ],
      "execution_count": 6,
      "outputs": []
    },
    {
      "cell_type": "code",
      "metadata": {
        "id": "pjypwuDYvPfG"
      },
      "source": [
        "#function to print all evaluation metrics for ML and DL models\n",
        "\n",
        "def print_metrics(model, y, predictions):\n",
        "  print(model,  'metrics: ', 'accuracy: ', accuracy_score(y, predictions), 'precision: ', \n",
        "        precision_score(y, predictions, average = 'macro'), 'recall: ', recall_score(y, predictions, average = 'macro'), 'f1 score: ', f1_score(y, predictions, average = 'macro'))"
      ],
      "execution_count": 7,
      "outputs": []
    },
    {
      "cell_type": "code",
      "metadata": {
        "id": "4BQ-k41g9Ji1"
      },
      "source": [
        "def opinion_filtering(model_path, tokenizer_path, dataset):\n",
        "  model = AutoModelForSequenceClassification.from_pretrained(model_path)\n",
        "  tokenizer = AutoTokenizer.from_pretrained(model_path)\n",
        "\n",
        "  x,y = transformer_preprocessing(dataset['clean_words'], dataset['label'])\n",
        "  all_data = transformer(model, tokenizer, x, y)\n",
        "\n",
        "  trainer = Trainer(model = model)\n",
        "  preds = trainer.predict(all_data)\n",
        "  preds = preds.predictions.argmax(-1)\n",
        "  dataset['fact_opinion'] = preds\n",
        "  step_1_df = dataset[dataset['fact_opinion'] == 0]\n",
        "\n",
        "  return step_1_df"
      ],
      "execution_count": 8,
      "outputs": []
    },
    {
      "cell_type": "code",
      "metadata": {
        "id": "OHkXuy7x96Vm"
      },
      "source": [
        "#set filepath locations\n",
        "step_1_isot_df_filepath = '/content/drive/MyDrive/Dissertation/deBERTa/ISOT/step_1_df_clean_words.pkl'\n",
        "step_1_cc_df_filepath = '/content/drive/MyDrive/Dissertation/deBERTa/Step_1_df_clean_words.pkl'\n",
        "isot_df_filepath = '/content/drive/MyDrive/Dissertation/ISOT_clean_words.pkl'\n",
        "cc_data_filepath = '/content/drive/MyDrive/Dataset/Combined_Corpus/Train/'  \n",
        "cc_df_filepath = '/content/drive/MyDrive/Dissertation/CC_clean_words.pkl'\n",
        "fact_opinion_model_filepath = '/content/drive/MyDrive/Dissertation/DistilBert/Step_1/50_epochs'"
      ],
      "execution_count": 35,
      "outputs": []
    },
    {
      "cell_type": "code",
      "metadata": {
        "id": "vta_lotbEZFy"
      },
      "source": [
        ""
      ],
      "execution_count": 30,
      "outputs": []
    },
    {
      "cell_type": "markdown",
      "metadata": {
        "id": "jlV2hbXS3SiK"
      },
      "source": [
        "# ISOT dataset"
      ]
    },
    {
      "cell_type": "code",
      "metadata": {
        "id": "4l1eTay1Dwgi"
      },
      "source": [
        "def clean_fake(text):\n",
        "    cleaned_text_1 = re.sub('\".*?\"', '', text)\n",
        "    cleaned_text = re.sub(r'\\.(?=[^ \\W\\d])', '. ', cleaned_text_1)\n",
        "    return cleaned_text\n",
        "\n",
        "def clean(text):\n",
        "    # removing all the characters other than alphabets\n",
        "    cleaned_text_1= re.sub(\"[^a-zA-Z]\", \" \", text)\n",
        "    cleaned_text_2 = re.sub(r'\\W+', ' ', cleaned_text_1)\n",
        "    # converting text to lower case\n",
        "    cleaned_text = re.sub(\"\\d+\", \" \", cleaned_text_2)\n",
        "    #all lowercase\n",
        "    cleaned_text= cleaned_text.lower()\n",
        "    return cleaned_text\n",
        "\n",
        "\n",
        "def load_big_dataset():\n",
        "  fake_news = pd.read_csv('/content/drive/MyDrive/Fake.csv')\n",
        "  real_news = pd.read_csv('/content/drive/MyDrive/True.csv')\n",
        "\n",
        "  #removing publisher name before '-' at start of all real articles\n",
        "  real_news['text'] = real_news['text'].apply(lambda x : re.sub(r'^.*?-', '-', x))\n",
        "\n",
        "  #run cleaning on fake news to add spaces after each full stop\n",
        "  fake_news[\"text\"]= fake_news['text'].apply(lambda x : clean_fake(x) )\n",
        "\n",
        "  #remove last sentence from fake news articles\n",
        "  for i in range(0, len(fake_news)):\n",
        "    text = fake_news['text'][i]\n",
        "    sent_text = nltk.sent_tokenize(text)\n",
        "    sent_removed = sent_text[0:-1]\n",
        "    fake_news['text'][i] = \" \".join(sent_removed)\n",
        "\n",
        "  #add binary labels\n",
        "  fake_news['label'] = 1\n",
        "  real_news['label'] = 0\n",
        "\n",
        "  #join real and fake news\n",
        "  all_news = pd.concat([real_news, fake_news])\n",
        "\n",
        "  #clean text\n",
        "  all_news[\"clean_text\"]= all_news[\"text\"].apply(lambda x : clean(x) )\n",
        "  all_news['clean_text'] = all_news['clean_text'].apply(lambda x : x.replace(' s ', ' '))\n",
        "\n",
        "  #reset index\n",
        "  all_news = all_news.reset_index(drop = True)\n",
        "\n",
        "  return all_news\n",
        "\n",
        "def stop_words_fun(col):\n",
        "  text = col \n",
        "  string = str(text)\n",
        "  text_tokens = word_tokenize(string)\n",
        "  tokens_without_sw = [word for word in text_tokens if not word in stop]\n",
        "  joined = \" \".join(tokens_without_sw)\n",
        "  return joined\n"
      ],
      "execution_count": 19,
      "outputs": []
    },
    {
      "cell_type": "code",
      "metadata": {
        "id": "pAbGiMUAFm3W"
      },
      "source": [
        "#load data and shuffle rows\n",
        "isot_df = load_big_dataset()\n",
        "isot_df = all_news.sample(frac=1).reset_index(drop=True)"
      ],
      "execution_count": 20,
      "outputs": []
    },
    {
      "cell_type": "code",
      "metadata": {
        "id": "-uJzKlYeGgIT"
      },
      "source": [
        "#remove stopwords\n",
        "stop = stopwords.words('english')\n",
        "stop = set(stop)\n",
        "\n",
        "def remove_stop_words(col):\n",
        "  text = str(col)\n",
        "  sent_text = nltk.sent_tokenize(text)\n",
        "  return sent_text\n",
        "\n",
        "isot_df['stop_words'] = isot_df['clean_text'].apply(lambda x : remove_stop_words(x))\n",
        "\n",
        "isot_df['clean_words'] = isot_df['stop_words'].apply(lambda x: stop_words_fun(x))\n",
        "\n",
        "isot_df = isot_df.drop_duplicates(subset = 'clean_words')"
      ],
      "execution_count": 21,
      "outputs": []
    },
    {
      "cell_type": "code",
      "metadata": {
        "id": "BpRPYg3hx1WJ"
      },
      "source": [
        "#save preprocessed dataframe\n",
        "#pkl.dump(dfs, open(isot_df_filepath, 'wb'))\n",
        "#open saved dataframe\n",
        "isot_df = pd.read_pickle(isot_df_filepath)"
      ],
      "execution_count": 10,
      "outputs": []
    },
    {
      "cell_type": "code",
      "metadata": {
        "colab": {
          "base_uri": "https://localhost:8080/"
        },
        "id": "6DL6uu3AZm6l",
        "outputId": "928b0d8f-eb86-4db6-d18c-de55b5805b78"
      },
      "source": [
        "isot_df['label'].value_counts()"
      ],
      "execution_count": null,
      "outputs": [
        {
          "output_type": "execute_result",
          "data": {
            "text/plain": [
              "0    20920\n",
              "1    17080\n",
              "Name: label, dtype: int64"
            ]
          },
          "metadata": {},
          "execution_count": 17
        }
      ]
    },
    {
      "cell_type": "markdown",
      "metadata": {
        "id": "bobr8WwXCAgq"
      },
      "source": [
        "# Combined corpus"
      ]
    },
    {
      "cell_type": "code",
      "metadata": {
        "colab": {
          "base_uri": "https://localhost:8080/"
        },
        "id": "7gbA0H_DCZJq",
        "outputId": "209ed90c-d574-4c04-deed-f24740e12a03"
      },
      "source": [
        "def clean(text):\n",
        "    # removing all the characters other than alphabets\n",
        "    cleaned_text_1= re.sub(\"[^a-zA-Z]\", \" \", text)\n",
        "    cleaned_text_2 = re.sub(r'\\W+', ' ', cleaned_text_1)\n",
        "    # converting text to lower case\n",
        "    cleaned_text = re.sub(\"\\d+\", \" \", cleaned_text_2)\n",
        "    \n",
        "    cleaned_text= cleaned_text.lower()\n",
        "\n",
        "    return cleaned_text\n",
        "\n",
        "from nltk.tokenize import word_tokenize\n",
        "\n",
        "import nltk\n",
        "nltk.download('stopwords')\n",
        "from nltk.corpus import stopwords\n",
        "stop = stopwords.words('english')\n",
        "stop = set(stop)\n",
        "\n",
        "def stop_words_fun(col):\n",
        "  text = col \n",
        "  string = str(text)\n",
        "  text_tokens = word_tokenize(string)\n",
        "  tokens_without_sw = [word for word in text_tokens if not word in stop]\n",
        "  joined = \" \".join(tokens_without_sw)\n",
        "  return joined\n"
      ],
      "execution_count": 13,
      "outputs": [
        {
          "output_type": "stream",
          "text": [
            "[nltk_data] Downloading package stopwords to /root/nltk_data...\n",
            "[nltk_data]   Package stopwords is already up-to-date!\n"
          ],
          "name": "stdout"
        }
      ]
    },
    {
      "cell_type": "code",
      "metadata": {
        "id": "HE8KSoKmoB_V",
        "colab": {
          "base_uri": "https://localhost:8080/"
        },
        "outputId": "d35eb30a-6192-44b4-8f14-9dec01fef13b"
      },
      "source": [
        "import os\n",
        "#read in combined corpus from multiple csv files\n",
        "path = cc_data_filepath\n",
        "trains = os.listdir(path)\n",
        "\n",
        "df_total = pd.DataFrame()\n",
        "\n",
        "#combine all combined corpus files into one dataframe\n",
        "for train in trains:\n",
        "    csv = pd.read_csv(path + train, engine = 'python', error_bad_lines=False)\n",
        "    df_total = df_total.append(csv)"
      ],
      "execution_count": 14,
      "outputs": [
        {
          "output_type": "stream",
          "text": [
            "Skipping line 3397: unexpected end of data\n",
            "Skipping line 163: Expected 3 fields in line 163, saw 6\n",
            "Skipping line 164: Expected 3 fields in line 164, saw 6\n",
            "Skipping line 165: Expected 3 fields in line 165, saw 4\n",
            "Skipping line 169: Expected 3 fields in line 169, saw 5\n",
            "Skipping line 171: Expected 3 fields in line 171, saw 8\n",
            "Skipping line 2591: unexpected end of data\n",
            "Skipping line 32: ',' expected after '\"'\n",
            "Skipping line 2737: unexpected end of data\n",
            "Skipping line 3850: unexpected end of data\n",
            "Skipping line 3469: unexpected end of data\n",
            "Skipping line 173: ',' expected after '\"'\n",
            "Skipping line 159: Expected 5 fields in line 159, saw 6\n",
            "Skipping line 3469: unexpected end of data\n",
            "Skipping line 2588: unexpected end of data\n",
            "Skipping line 330: Expected 2 fields in line 330, saw 3\n",
            "Skipping line 332: Expected 2 fields in line 332, saw 4\n",
            "Skipping line 333: Expected 2 fields in line 333, saw 7\n",
            "Skipping line 335: Expected 2 fields in line 335, saw 5\n",
            "Skipping line 336: Expected 2 fields in line 336, saw 4\n",
            "Skipping line 338: Expected 2 fields in line 338, saw 5\n",
            "Skipping line 341: Expected 2 fields in line 341, saw 3\n",
            "Skipping line 343: Expected 2 fields in line 343, saw 3\n",
            "Skipping line 345: Expected 2 fields in line 345, saw 3\n",
            "Skipping line 349: Expected 2 fields in line 349, saw 6\n",
            "Skipping line 350: Expected 2 fields in line 350, saw 5\n",
            "Skipping line 357: Expected 2 fields in line 357, saw 4\n",
            "Skipping line 358: Expected 2 fields in line 358, saw 3\n",
            "Skipping line 359: Expected 2 fields in line 359, saw 3\n",
            "Skipping line 360: Expected 2 fields in line 360, saw 9\n",
            "Skipping line 171: ',' expected after '\"'\n",
            "Skipping line 3287: unexpected end of data\n",
            "Skipping line 169: Expected 2 fields in line 169, saw 15\n",
            "Skipping line 19: ',' expected after '\"'\n",
            "Skipping line 2151: unexpected end of data\n",
            "Skipping line 13: ',' expected after '\"'\n",
            "Skipping line 2889: unexpected end of data\n",
            "Skipping line 2219: unexpected end of data\n",
            "Skipping line 153: Expected 3 fields in line 153, saw 4\n",
            "Skipping line 157: Expected 3 fields in line 157, saw 5\n",
            "Skipping line 159: Expected 3 fields in line 159, saw 4\n",
            "Skipping line 502: ',' expected after '\"'\n",
            "Skipping line 508: ',' expected after '\"'\n",
            "Skipping line 514: ',' expected after '\"'\n",
            "Skipping line 832: ',' expected after '\"'\n",
            "Skipping line 880: ',' expected after '\"'\n",
            "Skipping line 811: Expected 2 fields in line 811, saw 4\n",
            "Skipping line 853: Expected 2 fields in line 853, saw 5\n",
            "Skipping line 35: ',' expected after '\"'\n",
            "Skipping line 2536: unexpected end of data\n",
            "Skipping line 2719: unexpected end of data\n"
          ],
          "name": "stderr"
        }
      ]
    },
    {
      "cell_type": "code",
      "metadata": {
        "id": "p3-AOMT4afDw",
        "colab": {
          "base_uri": "https://localhost:8080/"
        },
        "outputId": "2dc4c3cb-99d6-415e-e34e-495d6f3fa094"
      },
      "source": [
        "df_total = df_total.reset_index(drop = True)\n",
        "#drop rows where there are no labels\n",
        "cc_df = df_total[(df_total['Label'] == 0) | (df_total['Label'] == 1) | (df_total['Label'] == \"0\") | (df_total['Label'] == \"1\")]\n",
        "cc_df['Label'] = pd.to_numeric(cc_df['Label'])\n",
        "\n",
        "#apply cleaning function\n",
        "cc_df[\"clean_words\"]= cc_df[\"Statement\"].apply(lambda x : clean(x) )\n",
        "#remove 's' from corpus\n",
        "cc_df['clean_words'] = cc_df['clean_words'].apply(lambda x : x.replace(' s ', ' '))\n",
        "#remove stop words, takes a little while to run\n",
        "cc_df[\"clean_words\"]= cc_df[\"clean_words\"].apply(lambda x : stop_words_fun(x) )\n",
        "#switch labels so that false articles are 1\n",
        "cc_df['label'] = np.where(cc_df['Label'] == 1.0, 0,1) \n",
        "\n",
        "cc_df = cc_df.dropna()\n",
        "cc_df = cc_df.drop_duplicates()\n",
        "cc_df = cc_df.reset_index(drop = True)"
      ],
      "execution_count": 15,
      "outputs": [
        {
          "output_type": "stream",
          "text": [
            "/usr/local/lib/python3.7/dist-packages/ipykernel_launcher.py:4: SettingWithCopyWarning:\n",
            "\n",
            "\n",
            "A value is trying to be set on a copy of a slice from a DataFrame.\n",
            "Try using .loc[row_indexer,col_indexer] = value instead\n",
            "\n",
            "See the caveats in the documentation: https://pandas.pydata.org/pandas-docs/stable/user_guide/indexing.html#returning-a-view-versus-a-copy\n",
            "\n",
            "/usr/local/lib/python3.7/dist-packages/ipykernel_launcher.py:7: SettingWithCopyWarning:\n",
            "\n",
            "\n",
            "A value is trying to be set on a copy of a slice from a DataFrame.\n",
            "Try using .loc[row_indexer,col_indexer] = value instead\n",
            "\n",
            "See the caveats in the documentation: https://pandas.pydata.org/pandas-docs/stable/user_guide/indexing.html#returning-a-view-versus-a-copy\n",
            "\n",
            "/usr/local/lib/python3.7/dist-packages/ipykernel_launcher.py:9: SettingWithCopyWarning:\n",
            "\n",
            "\n",
            "A value is trying to be set on a copy of a slice from a DataFrame.\n",
            "Try using .loc[row_indexer,col_indexer] = value instead\n",
            "\n",
            "See the caveats in the documentation: https://pandas.pydata.org/pandas-docs/stable/user_guide/indexing.html#returning-a-view-versus-a-copy\n",
            "\n",
            "/usr/local/lib/python3.7/dist-packages/ipykernel_launcher.py:11: SettingWithCopyWarning:\n",
            "\n",
            "\n",
            "A value is trying to be set on a copy of a slice from a DataFrame.\n",
            "Try using .loc[row_indexer,col_indexer] = value instead\n",
            "\n",
            "See the caveats in the documentation: https://pandas.pydata.org/pandas-docs/stable/user_guide/indexing.html#returning-a-view-versus-a-copy\n",
            "\n",
            "/usr/local/lib/python3.7/dist-packages/ipykernel_launcher.py:13: SettingWithCopyWarning:\n",
            "\n",
            "\n",
            "A value is trying to be set on a copy of a slice from a DataFrame.\n",
            "Try using .loc[row_indexer,col_indexer] = value instead\n",
            "\n",
            "See the caveats in the documentation: https://pandas.pydata.org/pandas-docs/stable/user_guide/indexing.html#returning-a-view-versus-a-copy\n",
            "\n"
          ],
          "name": "stderr"
        }
      ]
    },
    {
      "cell_type": "code",
      "metadata": {
        "colab": {
          "base_uri": "https://localhost:8080/"
        },
        "id": "kqwqiU3gdEkP",
        "outputId": "2027ca0f-8669-4819-a9f6-f10b95802d13"
      },
      "source": [
        "cc_df['Label'].value_counts()"
      ],
      "execution_count": null,
      "outputs": [
        {
          "output_type": "execute_result",
          "data": {
            "text/plain": [
              "1.0    30847\n",
              "0.0    29501\n",
              "Name: Label, dtype: int64"
            ]
          },
          "metadata": {},
          "execution_count": 25
        }
      ]
    },
    {
      "cell_type": "code",
      "metadata": {
        "id": "awY8Q023hpmy"
      },
      "source": [
        "#save cleaned dataset\n",
        "#pkl.dump(dfs, open(cc_df_filepath, 'wb'))\n",
        "#open saved dataframe\n",
        "cc_df = pd.read_pickle(cc_df_filepath)"
      ],
      "execution_count": 32,
      "outputs": []
    },
    {
      "cell_type": "markdown",
      "metadata": {
        "id": "TxqFvIdyQ6k0"
      },
      "source": [
        "Generate word clouds for each dataset"
      ]
    },
    {
      "cell_type": "code",
      "metadata": {
        "colab": {
          "base_uri": "https://localhost:8080/",
          "height": 217
        },
        "id": "0S4I85XLePud",
        "outputId": "607d1e6f-52cc-4f47-f802-2bc5b3a101b3"
      },
      "source": [
        "from wordcloud import WordCloud, STOPWORDS, ImageColorGenerator\n",
        "text = \" \".join(review for review in cc_df.clean_words)\n",
        "wordcloud = WordCloud(background_color=\"white\", max_words=5000, contour_width=3, contour_color='steelblue')\n",
        "# Generate a word cloud\n",
        "wordcloud.generate(text)\n",
        "# Visualize the word cloud\n",
        "wordcloud.to_image()"
      ],
      "execution_count": null,
      "outputs": [
        {
          "output_type": "execute_result",
          "data": {
            "image/png": "[encoded data removed]",
            "text/plain": [
              "<PIL.Image.Image image mode=RGB size=400x200 at 0x7F93BD089710>"
            ]
          },
          "metadata": {
            "tags": []
          },
          "execution_count": 17
        }
      ]
    },
    {
      "cell_type": "code",
      "metadata": {
        "colab": {
          "base_uri": "https://localhost:8080/",
          "height": 217
        },
        "id": "8nYhHj6DfxKA",
        "outputId": "41a8d043-b77e-4dda-badb-24f263c68332"
      },
      "source": [
        "from wordcloud import WordCloud, STOPWORDS, ImageColorGenerator\n",
        "text = \" \".join(review for review in isot_df.clean_words)\n",
        "wordcloud = WordCloud(background_color=\"white\", max_words=5000, contour_width=3, contour_color='steelblue')\n",
        "# Generate a word cloud\n",
        "wordcloud.generate(text)\n",
        "# Visualize the word cloud\n",
        "wordcloud.to_image()"
      ],
      "execution_count": null,
      "outputs": [
        {
          "output_type": "execute_result",
          "data": {
            "image/png": "[encoded data removed]",
            "text/plain": [
              "<PIL.Image.Image image mode=RGB size=400x200 at 0x7F93BA47B1D0>"
            ]
          },
          "metadata": {
            "tags": []
          },
          "execution_count": 18
        }
      ]
    },
    {
      "cell_type": "markdown",
      "metadata": {
        "id": "fgJ5gqkc3cZN"
      },
      "source": [
        "# Baseline ML models"
      ]
    },
    {
      "cell_type": "code",
      "metadata": {
        "id": "fGSbjHuMwHwh"
      },
      "source": [
        "def testing_ml_baseline(training_data):\n",
        "  #split data into training and testing\n",
        "  train_data, test_data, train_labels, test_labels = train_test_split(training_data['clean_words'], training_data['label'], test_size = 0.2, random_state = 42)\n",
        "  #load and fit tfidf vectoriser to training data\n",
        "  vectorizer = TfidfVectorizer()\n",
        "  x = vectorizer.fit_transform(train_data)\n",
        "  y = train_labels\n",
        "\n",
        "  #fit ML baseline models\n",
        "  logreg = LogisticRegression(random_state=42)\n",
        "  logreg.fit(x,y)\n",
        "\n",
        "  nb = MultinomialNB()\n",
        "  nb.fit(x,y)\n",
        "\n",
        "  rd = RandomForestClassifier(verbose=1, random_state=42)\n",
        "  rd.fit(x,y)\n",
        "\n",
        "  #vectorise test data\n",
        "  test_sequences = vectorizer.transform(test_data)\n",
        "\n",
        "  #predict using trained models\n",
        "  y_pred_rd = rd.predict(test_sequences)\n",
        "  y_pred = logreg.predict(test_sequences)\n",
        "  y_pred_nb = nb.predict(test_sequences)\n",
        "\n",
        "  #print metrics\n",
        "  print_metrics('Random forest', test_labels, y_pred_rd)\n",
        "  print_metrics('Logistic regression', test_labels, y_pred)\n",
        "  print_metrics('Naive Bayes', test_labels, y_pred_nb)\n",
        "\n",
        "  return logreg, nb, rd"
      ],
      "execution_count": 37,
      "outputs": []
    },
    {
      "cell_type": "code",
      "metadata": {
        "colab": {
          "base_uri": "https://localhost:8080/"
        },
        "id": "48qlwP1awqUa",
        "outputId": "4fe9daee-5504-4166-a5cc-6e062b5bf56a"
      },
      "source": [
        "#logreg_isot, nb_isot, rd_isot = testing_ml_baseline(isot_df)\n",
        "logreg_cc, nb_cc, rd_cc = testing_ml_baseline(dfs) # takes around 4 mins to run"
      ],
      "execution_count": 39,
      "outputs": [
        {
          "output_type": "stream",
          "text": [
            "[Parallel(n_jobs=1)]: Using backend SequentialBackend with 1 concurrent workers.\n",
            "[Parallel(n_jobs=1)]: Done 100 out of 100 | elapsed:  3.6min finished\n",
            "[Parallel(n_jobs=1)]: Using backend SequentialBackend with 1 concurrent workers.\n"
          ],
          "name": "stderr"
        },
        {
          "output_type": "stream",
          "text": [
            "Random forest metrics:  accuracy:  0.927754763877382 precision:  0.92832732532432 recall:  0.9272475104371236 f1 score:  0.9276066248222397\n",
            "Logistic regression metrics:  accuracy:  0.9625517812758906 precision:  0.9624364428849657 recall:  0.9626448763771418 f1 score:  0.9625241064342744\n",
            "Naive Bayes metrics:  accuracy:  0.9075393537696769 precision:  0.914660746411621 recall:  0.9055682174967261 f1 score:  0.9067621391706165\n"
          ],
          "name": "stdout"
        },
        {
          "output_type": "stream",
          "text": [
            "[Parallel(n_jobs=1)]: Done 100 out of 100 | elapsed:    1.9s finished\n"
          ],
          "name": "stderr"
        }
      ]
    },
    {
      "cell_type": "code",
      "metadata": {
        "id": "Iof3RSYDwv7K"
      },
      "source": [
        "#test out of distribution generalisation with baseline models\n",
        "\n",
        "def ml_generalisation(training_data, test_df, logreg, nb, rd):\n",
        "  train_data, test_data, train_labels, test_labels = train_test_split(training_data['clean_words'], training_data['label'], test_size = 0.2, random_state = 42)\n",
        "\n",
        "  vectorizer = TfidfVectorizer()\n",
        "  x = vectorizer.fit_transform(train_data)\n",
        "  y = train_labels\n",
        "  test = vectorizer.transform(test_df['clean_words'])\n",
        "  test_labels = test_df['label']\n",
        "\n",
        "  if rd == True:\n",
        "    rd = RandomForestClassifier(random_state = 42)\n",
        "    rd.fit(x,y)\n",
        "    \n",
        "  if nb == True:\n",
        "    nb = MultinomialNB()\n",
        "    nb.fit(x,y)\n",
        "\n",
        "  if logreg == True:\n",
        "    logreg = LogisticRegression(random_state = 42)\n",
        "    logreg.fit(x,y)\n",
        "\n",
        "  test_sequences = vectorizer.transform(test_df['clean_words'])\n",
        "  test_labels = test_df['label']\n",
        "\n",
        "  #predict using combined corpus data with models trained on ISOT data\n",
        "  y_pred_rd = rd.predict(test_sequences)\n",
        "  y_pred = logreg.predict(test_sequences)\n",
        "  y_pred_nb = nb.predict(test_sequences)\n",
        "\n",
        "  #print metrics\n",
        "  print_metrics('Random forest', test_labels, y_pred_rd)\n",
        "  print_metrics('Logistic regression', test_labels, y_pred)\n",
        "  print_metrics('Naive Bayes', test_labels, y_pred_nb)\n"
      ],
      "execution_count": 50,
      "outputs": []
    },
    {
      "cell_type": "code",
      "metadata": {
        "id": "u00xZaDw9Pxi",
        "colab": {
          "base_uri": "https://localhost:8080/"
        },
        "outputId": "6184563f-718d-4949-bfad-dbcb4d75279d"
      },
      "source": [
        "#get generalisation results\n",
        "ml_generalisation(isot_df, cc_df, True, True, True)\n",
        "#ml_generalisation(cc_df, True, True, True)"
      ],
      "execution_count": 51,
      "outputs": [
        {
          "output_type": "stream",
          "text": [
            "Random forest metrics:  accuracy:  0.6505435142838205 precision:  0.6908417743704929 recall:  0.6554299305021929 f1 score:  0.6352968924329137\n",
            "Logistic regression metrics:  accuracy:  0.6589944985749321 precision:  0.7495073204124441 recall:  0.6655491002414924 f1 score:  0.6302025726701967\n",
            "Naive Bayes metrics:  accuracy:  0.6349837608537151 precision:  0.6506342590412106 recall:  0.6382579869656044 f1 score:  0.6284544663840792\n"
          ],
          "name": "stdout"
        }
      ]
    },
    {
      "cell_type": "code",
      "metadata": {
        "id": "LSDGFItAKXTb"
      },
      "source": [
        "step_1_isot_df = pd.read_pickle(step_1_isot_df_filepath)\n",
        "step_1_cc_df = pd.read_pickle(step_1_cc_df_filepath)"
      ],
      "execution_count": 53,
      "outputs": []
    },
    {
      "cell_type": "code",
      "metadata": {
        "id": "r6SxzaosAlyI"
      },
      "source": [
        "#testing OOD generalisation with filtered training data, input step_1_dfs\n",
        "def ml_step_1_generalisation(step_1_training_data, test_df, rd, nb, logreg):\n",
        "  train_data, test_data, train_labels, test_labels = train_test_split(step_1_training_data['clean_words'], step_1_training_data['label'], test_size = 0.2, random_state = 42)\n",
        "\n",
        "  vectorizer = TfidfVectorizer()\n",
        "  x = vectorizer.fit_transform(train_data)\n",
        "  y = train_labels\n",
        "  test = vectorizer.transform(test_df['clean_words'])\n",
        "  test_labels = test_df['label']\n",
        "\n",
        "  if rd == True:\n",
        "    rd = RandomForestClassifier(random_state = 42)\n",
        "    rd.fit(x,y)\n",
        "    \n",
        "  if nb == True:\n",
        "    nb = MultinomialNB()\n",
        "    nb.fit(x,y)\n",
        "\n",
        "  if logreg == True:\n",
        "    logreg = LogisticRegression(random_state = 42)\n",
        "    logreg.fit(x,y)\n",
        "\n",
        "  rd_preds = rd.predict(test)\n",
        "  print_metrics('Random Forest', test_df['label'], rd_preds)\n",
        "    \n",
        "  nb_preds = nb.predict(test)\n",
        "  print_metrics('Naive Bayes', test_df, nb_preds)\n",
        "\n",
        "  logreg_preds = logreg.predict(test)\n",
        "  print_metrics('Logistic Regression', test_df, logreg_preds)"
      ],
      "execution_count": 59,
      "outputs": []
    },
    {
      "cell_type": "markdown",
      "metadata": {
        "id": "SFL6tG4X3hVA"
      },
      "source": [
        "# LSTM baseline"
      ]
    },
    {
      "cell_type": "code",
      "metadata": {
        "id": "ULmNsQMffBr3"
      },
      "source": [
        "model_path_ISOT = \"/content/drive/MyDrive/LSTM_isot_step_1_macro_test.hdf5\"\n",
        "model_path_CC = \"/content/drive/MyDrive/LSTM_isot_step_1_macro_test.hdf5\""
      ],
      "execution_count": 61,
      "outputs": []
    },
    {
      "cell_type": "code",
      "metadata": {
        "id": "axZcOQUTM845"
      },
      "source": [
        "def process_lstm(training_data):\n",
        "  #split training and testing data\n",
        "  train_data, test_data, train_labels, test_labels = train_test_split(training_data['clean_words'], training_data['label'], test_size = 0.2, random_state = 42)\n",
        "  text = train_data\n",
        "\n",
        "  #tokenize words\n",
        "  ml_tokenizer = Tokenizer()\n",
        "  ml_tokenizer.fit_on_texts(text)\n",
        "  sequences = ml_tokenizer.texts_to_sequences(train_data)\n",
        "  sequences = pad_sequences(sequences)\n",
        "  vocab_size = len(ml_tokenizer.word_index) + 1\n",
        "\n",
        "  y = train_labels\n",
        "  x = sequences\n",
        "\n",
        "  return ml_tokenizer, x,y, test_data, test_labels"
      ],
      "execution_count": 86,
      "outputs": []
    },
    {
      "cell_type": "code",
      "metadata": {
        "id": "qQFeWXLWxeRj"
      },
      "source": [
        "tokenizer_isot, x_isot, y_isot, test_data, test_labels = process_lstm(isot_df)\n",
        "#tokenizer_cc, x_cc, y_cc, test_data, test_labels = process_lstm(cc_df)\n",
        "\n",
        "lstm_sequences_isot = np.asarray(x_isot)\n",
        "seq_length_isot = x_isot.shape[1]\n",
        "n_classes = 1\n",
        "vocab_size_isot = len(tokenizer_isot.word_index) + 1\n",
        "\n",
        "#lstm_sequences_cc = np.asarray(x_cc)\n",
        "#seq_length_cc = x_cc.shape[1]\n",
        "#n_classes = 1\n",
        "#vocab_size_cc = len(tokenizer_cc.word_index) + 1"
      ],
      "execution_count": 87,
      "outputs": []
    },
    {
      "cell_type": "markdown",
      "metadata": {
        "id": "CzjoskP84_pa"
      },
      "source": [
        ""
      ]
    },
    {
      "cell_type": "code",
      "metadata": {
        "colab": {
          "base_uri": "https://localhost:8080/"
        },
        "id": "FebJe6mHe0qp",
        "outputId": "949c0666-299a-4917-d280-7a4f13bf695b"
      },
      "source": [
        "#Build model\n",
        "def create_model(vocab_size, seq_length):\n",
        "  model = Sequential()\n",
        "  model.add(Embedding(vocab_size,40,input_length = seq_length))  \n",
        "  model.add(Dropout(0.3))\n",
        "  model.add(LSTM(100))  \n",
        "  model.add(Dropout(0.3))\n",
        "  model.add(Dense(64,activation='relu'))\n",
        "  model.add(Dropout(0.3))\n",
        "  model.add(Dense(1,activation='sigmoid'))  \n",
        "  model.compile(loss='binary_crossentropy',optimizer='adam',metrics=['accuracy', 'precision', 'recall', 'f1'])\n",
        "  print(model.summary())\n",
        "  return model\n",
        "\n",
        "lstm = create_model(vocab_size_isot, seq_length_isot)\n",
        "\n",
        "#Compile model\n",
        "lstm.compile(loss='binary_crossentropy', optimizer='adam', metrics=['accuracy'])\n",
        "lstm.summary()"
      ],
      "execution_count": 74,
      "outputs": [
        {
          "output_type": "stream",
          "text": [
            "Model: \"sequential_2\"\n",
            "_________________________________________________________________\n",
            "Layer (type)                 Output Shape              Param #   \n",
            "=================================================================\n",
            "embedding (Embedding)        (None, 4976, 40)          4085440   \n",
            "_________________________________________________________________\n",
            "dropout (Dropout)            (None, 4976, 40)          0         \n",
            "_________________________________________________________________\n",
            "lstm (LSTM)                  (None, 100)               56400     \n",
            "_________________________________________________________________\n",
            "dropout_1 (Dropout)          (None, 100)               0         \n",
            "_________________________________________________________________\n",
            "dense (Dense)                (None, 64)                6464      \n",
            "_________________________________________________________________\n",
            "dropout_2 (Dropout)          (None, 64)                0         \n",
            "_________________________________________________________________\n",
            "dense_1 (Dense)              (None, 1)                 65        \n",
            "=================================================================\n",
            "Total params: 4,148,369\n",
            "Trainable params: 4,148,369\n",
            "Non-trainable params: 0\n",
            "_________________________________________________________________\n",
            "None\n",
            "Model: \"sequential_2\"\n",
            "_________________________________________________________________\n",
            "Layer (type)                 Output Shape              Param #   \n",
            "=================================================================\n",
            "embedding (Embedding)        (None, 4976, 40)          4085440   \n",
            "_________________________________________________________________\n",
            "dropout (Dropout)            (None, 4976, 40)          0         \n",
            "_________________________________________________________________\n",
            "lstm (LSTM)                  (None, 100)               56400     \n",
            "_________________________________________________________________\n",
            "dropout_1 (Dropout)          (None, 100)               0         \n",
            "_________________________________________________________________\n",
            "dense (Dense)                (None, 64)                6464      \n",
            "_________________________________________________________________\n",
            "dropout_2 (Dropout)          (None, 64)                0         \n",
            "_________________________________________________________________\n",
            "dense_1 (Dense)              (None, 1)                 65        \n",
            "=================================================================\n",
            "Total params: 4,148,369\n",
            "Trainable params: 4,148,369\n",
            "Non-trainable params: 0\n",
            "_________________________________________________________________\n"
          ],
          "name": "stdout"
        }
      ]
    },
    {
      "cell_type": "code",
      "metadata": {
        "id": "OvTjG_XEypLj"
      },
      "source": [
        "x = x_isot\n",
        "y = y_isot\n",
        "\n",
        "#x = x_cc\n",
        "#y = y_cc"
      ],
      "execution_count": 81,
      "outputs": []
    },
    {
      "cell_type": "code",
      "metadata": {
        "colab": {
          "base_uri": "https://localhost:8080/",
          "height": 808
        },
        "id": "dxfq9HEg99RM",
        "outputId": "335102ff-807b-421e-d010-06f027aacf85"
      },
      "source": [
        "# Save model with best weights\n",
        "checkpoint = ModelCheckpoint(model_path_ISOT, monitor='val_acc', verbose=1,  save_weights_only = True, mode='max')\n",
        "\n",
        "# Train the model\n",
        "print(\"------------------------------------\")\n",
        "print(\"Training model...\")\n",
        "history = lstm.fit(x, y, epochs = 3 , callbacks=[checkpoint], shuffle = False, validation_split = 0.1)\n",
        "\n",
        "# Plot history for accuracy\n",
        "plt.plot(history.history['accuracy'])\n",
        "plt.title('Accuracy')\n",
        "plt.ylabel('Accuracy')\n",
        "plt.xlabel('Epoch')\n",
        "plt.legend(['Train'], loc='upper left')\n",
        "plt.show()\n",
        "\n",
        "# Plot history for loss\n",
        "plt.plot(history.history['loss'])\n",
        "plt.title('Loss')\n",
        "plt.ylabel('Loss')\n",
        "plt.xlabel('Epoch')\n",
        "plt.legend(['Train'], loc='upper left')\n",
        "plt.show()"
      ],
      "execution_count": 82,
      "outputs": [
        {
          "output_type": "stream",
          "text": [
            "------------------------------------\n",
            "Training model...\n",
            "Epoch 1/3\n",
            "855/855 [==============================] - 168s 196ms/step - loss: 0.0911 - accuracy: 0.9741 - val_loss: 0.1257 - val_accuracy: 0.9681\n",
            "\n",
            "Epoch 00001: saving model to /content/drive/MyDrive/LSTM_isot_step_1_macro_test.hdf5\n",
            "Epoch 2/3\n",
            "855/855 [==============================] - 172s 201ms/step - loss: 0.5412 - accuracy: 0.6996 - val_loss: 0.3515 - val_accuracy: 0.8658\n",
            "\n",
            "Epoch 00002: saving model to /content/drive/MyDrive/LSTM_isot_step_1_macro_test.hdf5\n",
            "Epoch 3/3\n",
            "855/855 [==============================] - 172s 202ms/step - loss: 0.3121 - accuracy: 0.8681 - val_loss: 0.4179 - val_accuracy: 0.8046\n",
            "\n",
            "Epoch 00003: saving model to /content/drive/MyDrive/LSTM_isot_step_1_macro_test.hdf5\n"
          ],
          "name": "stdout"
        },
        {
          "output_type": "display_data",
          "data": {
            "image/png": "[encoded data removed]",
            "text/plain": [
              "<Figure size 432x288 with 1 Axes>"
            ]
          },
          "metadata": {
            "needs_background": "light"
          }
        },
        {
          "output_type": "display_data",
          "data": {
            "image/png": "[encoded data removed]",
            "text/plain": [
              "<Figure size 432x288 with 1 Axes>"
            ]
          },
          "metadata": {
            "needs_background": "light"
          }
        }
      ]
    },
    {
      "cell_type": "markdown",
      "metadata": {
        "id": "nHRp3J9Vbamj"
      },
      "source": [
        "Save LSTM model"
      ]
    },
    {
      "cell_type": "code",
      "metadata": {
        "id": "jF7rUIMNSGK1"
      },
      "source": [
        "#lstm.save(model_path)\n",
        "#model = load_model(model_path)\n",
        "#Load weights\n",
        "#lstm.load_weights(model_path)"
      ],
      "execution_count": null,
      "outputs": []
    },
    {
      "cell_type": "code",
      "metadata": {
        "id": "Tmt1P2D2E98C",
        "colab": {
          "base_uri": "https://localhost:8080/"
        },
        "outputId": "7f3eb67b-a4d2-45af-c2da-be9eb6b0a40a"
      },
      "source": [
        "#get metrics against test set\n",
        "test_sequences = tokenizer_isot.texts_to_sequences(test_data)\n",
        "test_sequences = pad_sequences(test_sequences, maxlen = x_isot.shape[1])\n",
        "lstm_preds = lstm.predict(test_sequences)\n",
        "lstm_preds = np.where(lstm_preds > 0.5, 1, 0)\n",
        "print_metrics('LSTM', test_labels, lstm_preds)"
      ],
      "execution_count": 88,
      "outputs": [
        {
          "output_type": "stream",
          "text": [
            "LSTM metrics:  accuracy:  0.8218421052631579 precision:  0.8774456277017291 recall:  0.8006441116893648 f1 score:  0.8062182358085892\n"
          ],
          "name": "stdout"
        }
      ]
    },
    {
      "cell_type": "code",
      "metadata": {
        "id": "PCdtou7AoYGT"
      },
      "source": [
        "def lstm_generalisation(lstm, test_data, tokenizer, x):\n",
        "  general_test = tokenizer.texts_to_sequences(test_data['clean_words'])\n",
        "  general_test = pad_sequences(general_test, maxlen = x.shape[1])\n",
        "  lstm_general_preds = lstm.predict(general_test)\n",
        "  lstm_general_preds = np.where(lstm_general_preds > 0.5, 1, 0)\n",
        "  print_metrics('LSTM', test_data['label'], lstm_general_preds)"
      ],
      "execution_count": 91,
      "outputs": []
    },
    {
      "cell_type": "code",
      "metadata": {
        "id": "qCvYd9MdAg8i",
        "colab": {
          "base_uri": "https://localhost:8080/"
        },
        "outputId": "6097e802-e726-4cb3-81bc-bd9ba903c42b"
      },
      "source": [
        "lstm_generalisation(lstm, cc_df, tokenizer_isot, x_isot)\n",
        "#lstm_generalisation(dfs, lstm, tokenizer_isot, x_cc)"
      ],
      "execution_count": 92,
      "outputs": [
        {
          "output_type": "stream",
          "text": [
            "LSTM metrics:  accuracy:  0.6676609001126798 precision:  0.6811940469387434 recall:  0.6643324503571248 f1 score:  0.6584696642510846\n"
          ],
          "name": "stdout"
        }
      ]
    },
    {
      "cell_type": "markdown",
      "metadata": {
        "id": "A8NPOcQe3tQ2"
      },
      "source": [
        "\n",
        "\n",
        "# DistilBERT transformer"
      ]
    },
    {
      "cell_type": "code",
      "metadata": {
        "id": "U6fqT0SaWb97"
      },
      "source": [
        "#load pretrained DistilBERT\n",
        "tokenizer = DistilBertTokenizerFast.from_pretrained('distilbert-base-uncased')\n",
        "model = DistilBertForSequenceClassification.from_pretrained(\"distilbert-base-uncased\")"
      ],
      "execution_count": null,
      "outputs": []
    },
    {
      "cell_type": "code",
      "metadata": {
        "id": "it4I8EMv1Wev"
      },
      "source": [
        "def process_transformer(training_data, model, tokenizer):\n",
        "  x,y = transformer_preprocessing(training_data['clean_words'], training_data['label'])\n",
        "  train, val, test = transformer_train_val_test(model, tokenizer, x, y)\n",
        "\n",
        "  train.labels = [int(i) for i in train.labels]\n",
        "  val.labels = [int(i) for i in val.labels]\n",
        "  test.labels = [int(i) for i in test.labels]\n",
        "\n",
        "  return train,val,test\n",
        "\n",
        "train_isot, val_isot, test_isot = process_transformer(isot_df, model, tokenizer)\n",
        "train_cc, val_cc, test_cc = process_transformer(cc_df, model, tokenizer)"
      ],
      "execution_count": 97,
      "outputs": []
    },
    {
      "cell_type": "code",
      "metadata": {
        "id": "mT-4rwSD7jut"
      },
      "source": [
        "def train_transformer(train, test, val, model):\n",
        "  training_args = TrainingArguments(\n",
        "    output_dir='./results',          # output directory\n",
        "    num_train_epochs=2,              # total number of training epochs\n",
        "    per_device_train_batch_size=8,  # batch size per device during training\n",
        "    per_device_eval_batch_size=8,   # batch size for evaluation             \n",
        "    logging_dir='./logs',            # directory for storing logs\n",
        "    logging_steps=100,\n",
        "    evaluation_strategy = 'steps',\n",
        "    save_strategy = 'steps',\n",
        "    load_best_model_at_end = True \n",
        ")\n",
        "\n",
        "  trainer = Trainer(\n",
        "    model=model,                         \n",
        "    args=training_args,                  \n",
        "    train_dataset=train,        \n",
        "    eval_dataset=val,           \n",
        "    compute_metrics = compute_metrics\n",
        ")\n",
        "\n",
        "  trainer.train()   \n",
        "\n",
        "  return trainer"
      ],
      "execution_count": 98,
      "outputs": []
    },
    {
      "cell_type": "code",
      "metadata": {
        "id": "r2LxDyizTO96"
      },
      "source": [
        "trainer = train_transformer(train_isot, test_isot, val_isot, model)"
      ],
      "execution_count": null,
      "outputs": []
    },
    {
      "cell_type": "code",
      "metadata": {
        "id": "A-I5AW-k0VSP"
      },
      "source": [
        "#save trained model and tokenizer\n",
        "#model.save_pretrained('/content/drive/MyDrive/Dissertation/DistilBert/cc/1_epochs')\n",
        "#tokenizer.save_pretrained('/content/drive/MyDrive/Dissertation/DistilBert/cc/1_epochs')\n",
        "\n",
        "#save training log with training and validation loss\n",
        "#log = trainer.state.log_history\n",
        "#pickle.dump(log, open('/content/drive/MyDrive/Dissertation/DistilBert/log.pkl))"
      ],
      "execution_count": null,
      "outputs": []
    },
    {
      "cell_type": "code",
      "metadata": {
        "id": "Rui4lf0d3XrD"
      },
      "source": [
        "#evaluation against test set\n",
        "trainer.evaluate(test)"
      ],
      "execution_count": null,
      "outputs": []
    },
    {
      "cell_type": "markdown",
      "metadata": {
        "id": "EHBDy4w4SUAb"
      },
      "source": [
        "# BERT"
      ]
    },
    {
      "cell_type": "code",
      "metadata": {
        "id": "XvI_mL6UAUDX"
      },
      "source": [
        "from transformers import AutoTokenizer, AutoModelForSequenceClassification\n",
        "#load pretrained BERT transformer\n",
        "model = AutoModelForSequenceClassification.from_pretrained(\"bert-base-uncased\", num_labels=2)\n",
        "tokenizer = AutoTokenizer.from_pretrained(\"bert-base-uncased\")"
      ],
      "execution_count": null,
      "outputs": []
    },
    {
      "cell_type": "code",
      "metadata": {
        "id": "Z72xk0Fc9Gbu"
      },
      "source": [
        "#generate fakenewsdataset objects for training on BERT\n",
        "train_isot, val_isot, test_isot = process_transformer(isot_df, model, tokenizer)\n",
        "train_cc, val_cc, test_cc = process_transformer(cc_df, model, tokenizer)"
      ],
      "execution_count": null,
      "outputs": []
    },
    {
      "cell_type": "code",
      "metadata": {
        "id": "22lNc6cuClwg"
      },
      "source": [
        "trainer_bert = train_transformer(train,val,test, model)"
      ],
      "execution_count": null,
      "outputs": []
    },
    {
      "cell_type": "code",
      "metadata": {
        "colab": {
          "base_uri": "https://localhost:8080/"
        },
        "id": "PHGjLmt29ZBv",
        "outputId": "0c7f55a4-fa18-4521-9f91-594e8b78375a"
      },
      "source": [
        "#save finetuned BERT model\n",
        "#tokenizer.save_pretrained('/content/drive/MyDrive/Dissertation/Bert/ISOT/1_epoch/')\n",
        "#model.save_pretrained('/content/drive/MyDrive/Dissertation/Bert/ISOT/1_epoch/')\n",
        "\n",
        "#save training log\n",
        "#bert_log = trainer_bert.state.log_history\n",
        "#pkl.dump(bert_log, open('/content/drive/MyDrive/Dissertation/Bert/ISOT/1_epoch_log', 'wb'))"
      ],
      "execution_count": null,
      "outputs": [
        {
          "output_type": "stream",
          "text": [
            "tokenizer config file saved in /content/drive/MyDrive/Dissertation/Bert/ISOT/1_epoch/tokenizer_config.json\n",
            "Special tokens file saved in /content/drive/MyDrive/Dissertation/Bert/ISOT/1_epoch/special_tokens_map.json\n",
            "Configuration saved in /content/drive/MyDrive/Dissertation/Bert/ISOT/1_epoch/config.json\n",
            "Model weights saved in /content/drive/MyDrive/Dissertation/Bert/ISOT/1_epoch/pytorch_model.bin\n"
          ],
          "name": "stderr"
        }
      ]
    },
    {
      "cell_type": "code",
      "metadata": {
        "id": "bm1Gi00QXyXU"
      },
      "source": [
        "#evaluate BERT against test set\n",
        "trainer_bert.evaluate(test)"
      ],
      "execution_count": null,
      "outputs": []
    },
    {
      "cell_type": "markdown",
      "metadata": {
        "id": "g6hpLk9HAdUH"
      },
      "source": [
        "# DeBerta"
      ]
    },
    {
      "cell_type": "code",
      "metadata": {
        "id": "-hlhC8RgU4mk"
      },
      "source": [
        "from transformers import AutoTokenizer, AutoModelForSequenceClassification\n",
        "#load pretrained deberta model from huggingface\n",
        "tokenizer = AutoTokenizer.from_pretrained(\"microsoft/deberta-base-mnli\")\n",
        "model = AutoModelForSequenceClassification.from_pretrained(\"microsoft/deberta-base-mnli\")"
      ],
      "execution_count": null,
      "outputs": []
    },
    {
      "cell_type": "code",
      "metadata": {
        "id": "hyPtbahx7gd-"
      },
      "source": [
        "#generate fakenewsdataset objects for training on BERT\n",
        "train_isot, val_isot, test_isot = process_transformer(all_news1, model, tokenizer)\n",
        "train_cc, val_cc, test_cc = process_transformer(dfs, model, tokenizer)"
      ],
      "execution_count": null,
      "outputs": []
    },
    {
      "cell_type": "code",
      "metadata": {
        "id": "3--Tzve3It8M"
      },
      "source": [
        "trainer_deberta = transformer_train(train,val,test,model)"
      ],
      "execution_count": null,
      "outputs": []
    },
    {
      "cell_type": "code",
      "metadata": {
        "colab": {
          "base_uri": "https://localhost:8080/"
        },
        "id": "ohjcRiJsMD0z",
        "outputId": "7a815673-5e87-47ce-aa0d-7beca0cfc0a5"
      },
      "source": [
        "#model.save_pretrained('/content/drive/MyDrive/Dissertation/deBERTa/cc/1_epoch')\n",
        "#tokenizer.save_pretrained('/content/drive/MyDrive/Dissertation/deBERTa/cc/1_epoch')\n",
        "\n",
        "#save training log\n",
        "#deberta_log = trainer_deberta.state.log_history\n",
        "#pkl.dump(deberta_log, open('/content/drive/MyDrive/Dissertation/Bert/ISOT/1_epoch_log', 'wb'))"
      ],
      "execution_count": null,
      "outputs": [
        {
          "output_type": "stream",
          "text": [
            "Configuration saved in /content/drive/MyDrive/Dissertation/deBERTa/cc/1_epoch/config.json\n",
            "Model weights saved in /content/drive/MyDrive/Dissertation/deBERTa/cc/1_epoch/pytorch_model.bin\n",
            "tokenizer config file saved in /content/drive/MyDrive/Dissertation/deBERTa/cc/1_epoch/tokenizer_config.json\n",
            "Special tokens file saved in /content/drive/MyDrive/Dissertation/deBERTa/cc/1_epoch/special_tokens_map.json\n"
          ],
          "name": "stderr"
        },
        {
          "output_type": "execute_result",
          "data": {
            "text/plain": [
              "('/content/drive/MyDrive/Dissertation/deBERTa/cc/1_epoch/tokenizer_config.json',\n",
              " '/content/drive/MyDrive/Dissertation/deBERTa/cc/1_epoch/special_tokens_map.json',\n",
              " '/content/drive/MyDrive/Dissertation/deBERTa/cc/1_epoch/vocab.json',\n",
              " '/content/drive/MyDrive/Dissertation/deBERTa/cc/1_epoch/merges.txt',\n",
              " '/content/drive/MyDrive/Dissertation/deBERTa/cc/1_epoch/added_tokens.json',\n",
              " '/content/drive/MyDrive/Dissertation/deBERTa/cc/1_epoch/tokenizer.json')"
            ]
          },
          "metadata": {
            "tags": []
          },
          "execution_count": 15
        }
      ]
    },
    {
      "cell_type": "markdown",
      "metadata": {
        "id": "9XcS6aSIW7BY"
      },
      "source": [
        "# Generalisation"
      ]
    },
    {
      "cell_type": "code",
      "metadata": {
        "id": "Aa2fLo4YSsaW"
      },
      "source": [
        "#dictionary containing locations of trained models\n",
        "models_dict= {\n",
        "    'deBERTa_CC' : '/content/drive/MyDrive/Dissertation/deBERTa/cc/1_epoch',\n",
        "    'BERT_CC' : '/content/drive/MyDrive/Dissertation/Bert/cc/1_epochs',\n",
        "    'DistilBERT_CC' : '/content/drive/MyDrive/Dissertation/DistilBert/cc/1_epochs',\n",
        "    'deBERTa_ISOT' : '/content/drive/MyDrive/Dissertation/deBERTa/ISOT/1_epoch',\n",
        "    'BERT_ISOT' : '/content/drive/MyDrive/Dissertation/Bert/ISOT/1_epoch',\n",
        "    'DistilBERT_ISOT' : '/content/drive/MyDrive/Dissertation/DistilBert/big_dataset/1_epochs',\n",
        "    'step_1_deBERTa_CC' : '/content/drive/MyDrive/Dissertation/deBERTa/Step_1/cc/1_epoch',\n",
        "    'step_1_deBERTa_ISOT' : '/content/drive/MyDrive/Dissertation/deBERTa/ISOT/step_1',\n",
        "    'step_1_BERT_CC' : '/content/drive/MyDrive/Dissertation/Bert/cc/step_1' ,\n",
        "    'step_1_BERT_ISOT' : '/content/drive/MyDrive/Dissertation/Bert/ISOT/step_1' ,\n",
        "    'step_1_DistilBERT_ISOT' : '/content/drive/MyDrive/Dissertation/DistilBert/ISOT/step_1',\n",
        "    'step_1_DistilBERT_CC' : '/content/drive/MyDrive/Dissertation/DistilBert/cc/step_1',\n",
        "}"
      ],
      "execution_count": null,
      "outputs": []
    },
    {
      "cell_type": "code",
      "metadata": {
        "id": "K6rLnrjOuHnx"
      },
      "source": [
        "from sklearn.metrics import classification_report\n",
        "\n",
        "#def evaluation function with macro average and classification report for each class\n",
        "def compute_metrics(eval_pred):\n",
        "    logits, labels = eval_pred\n",
        "    predictions = np.argmax(logits, axis=-1)\n",
        "    target_names = ['class 0', 'class 1']\n",
        "    print(classification_report(labels, predictions, target_names=target_names))\n",
        "    precision, recall, f1, _ = precision_recall_fscore_support(labels, predictions, average= 'macro')\n",
        "    return {\n",
        "        'f1': f1,\n",
        "        'precision': precision,\n",
        "        'recall': recall,\n",
        "        'accuracy': accuracy_score(labels, predictions)\n",
        "    }"
      ],
      "execution_count": null,
      "outputs": []
    },
    {
      "cell_type": "code",
      "metadata": {
        "id": "rGALWkq26_41"
      },
      "source": [
        "def generalisation_test(model, training_data, test_df, models_dict, step_1):\n",
        "  if step_1 == True:\n",
        "    model_name = 'step_1_' + model +  \"_\" + training_data\n",
        "  else:\n",
        "    model_name = model + \"_\" + training_data\n",
        "\n",
        "  model_path = models_dict[model_name]\n",
        "  model = AutoModelForSequenceClassification.from_pretrained(model_path)\n",
        "  tokenizer = AutoTokenizer.from_pretrained(model_path)\n",
        "\n",
        "  if test_df == 'ISOT':\n",
        "    x,y = transformer_preprocessing(all_news1['hiya_words'], all_news1['label'])\n",
        "  elif test_df == 'CC':\n",
        "    x,y = transformer_preprocessing(dfs['Statement_clean'], dfs['label'])\n",
        "\n",
        "  test_dataset = transformer(model, tokenizer, x, y)\n",
        "  test_dataset.labels = [int(i) for i in test_dataset.labels]\n",
        "  trainer = Trainer(model = model, compute_metrics = compute_metrics)\n",
        "  preds = trainer.predict(test_dataset)\n",
        "  return trainer.evaluate(test_dataset), preds"
      ],
      "execution_count": null,
      "outputs": []
    },
    {
      "cell_type": "code",
      "metadata": {
        "id": "2aY-6h_oU6eB"
      },
      "source": [
        "#confusion matrix\n",
        "mat = confusion_matrix(test_dataset.labels, preds.predictions.argmax(-1))\n",
        "group_names = ['True Neg','False Pos','False Neg','True Pos']\n",
        "group_counts = ['{0:0.0f}'.format(value) for value in\n",
        "                mat.flatten()]\n",
        "group_percentages = ['{0:.2%}'.format(value) for value in\n",
        "                     mat.flatten()/np.sum(mat)]\n",
        "labels = [f'{v1}\\n{v2}\\n{v3}' for v1, v2, v3 in\n",
        "          zip(group_names,group_counts,group_percentages)]\n",
        "labels = np.asarray(labels).reshape(2,2)\n",
        "plot = sns.heatmap(mat, annot=labels, fmt='', cmap='Blues')"
      ],
      "execution_count": null,
      "outputs": []
    },
    {
      "cell_type": "markdown",
      "metadata": {
        "id": "PZqS3BcCkXmK"
      },
      "source": [
        "# Add step 1\n"
      ]
    },
    {
      "cell_type": "code",
      "metadata": {
        "id": "RpJkY1_JWWqv"
      },
      "source": [
        "#load filtered training data\n",
        "step_1_isot = pd.read_pickle('/content/drive/MyDrive/Dissertation/deBERTa/ISOT/step_1_df.pkl')\n",
        "step_1_cc = pd.read_pickle('/content/drive/MyDrive/Dissertation/deBERTa/Step_1_df.pkl')"
      ],
      "execution_count": null,
      "outputs": []
    },
    {
      "cell_type": "code",
      "metadata": {
        "id": "_GHyAOn9F3jG"
      },
      "source": [
        "#load pretrained fact vs. opinion classifier (generated in fact_opinion.ipynb)\n",
        "model = AutoModelForSequenceClassification.from_pretrained('/content/drive/MyDrive/Dissertation/DistilBert/Step_1/50_epochs')\n",
        "tokenizer = AutoTokenizer.from_pretrained('/content/drive/MyDrive/Dissertation/DistilBert/Step_1/50_epochs')\n",
        "\n",
        "x,y = transformer_preprocessing(all_news1['clean_words'], all_news1['label'])\n",
        "isot_data = transformer(model, tokenizer, x, y)\n",
        "cc_data = transformer(model, tokenizer, x, y)"
      ],
      "execution_count": null,
      "outputs": []
    },
    {
      "cell_type": "code",
      "metadata": {
        "id": "TAjPo8ZcXek0"
      },
      "source": [
        "trainer = Trainer(model = model)\n",
        "preds_isot = trainer.predict(isot_data)\n",
        "preds_cc = trainer.predict(cc_data)"
      ],
      "execution_count": null,
      "outputs": []
    },
    {
      "cell_type": "code",
      "metadata": {
        "id": "QvQp66-fZI3W"
      },
      "source": [
        "dfs['fact_opinion'] = preds_cc.predictions.argmax(-1)\n",
        "step_1_cc = dfs[dfs['fact_opinion'] == 0]\n",
        "\n",
        "all_news1['fact_opinion'] = preds_isot.predictions.argmax(-1)\n",
        "step_1_isot = all_news1[all_news1['fact_opinion'] == 0]"
      ],
      "execution_count": null,
      "outputs": []
    },
    {
      "cell_type": "code",
      "metadata": {
        "id": "_c62NVsU8apE"
      },
      "source": [
        "def opinion_filtering(model_path, tokenizer_path, dataset):\n",
        "  model = AutoModelForSequenceClassification.from_pretrained(model_path)\n",
        "  tokenizer = AutoTokenizer.from_pretrained(model_path)\n",
        "\n",
        "  x,y = transformer_preprocessing(dataset['clean_words'], dataset['label'])\n",
        "  all_data = transformer(model, tokenizer, x, y)\n",
        "\n",
        "  trainer = Trainer(model = model)\n",
        "  preds = trainer.predict(all_data)\n",
        "  preds = preds.predictions.argmax(-1)\n",
        "  dataset['fact_opinion'] = preds\n",
        "  step_1_df = dataset[dataset['fact_opinion'] == 0]\n",
        "\n",
        "  return step_1_df\n"
      ],
      "execution_count": 15,
      "outputs": []
    },
    {
      "cell_type": "code",
      "metadata": {
        "colab": {
          "base_uri": "https://localhost:8080/",
          "height": 796
        },
        "id": "NUZ1WuF4Conz",
        "outputId": "cff495a0-c4b4-4110-8eb1-57e7d88d3b0b"
      },
      "source": [
        "df = opinion_filtering(fact_opinion_model_filepath, fact_opinion_model_filepath, cc_df)"
      ],
      "execution_count": 33,
      "outputs": [
        {
          "output_type": "stream",
          "text": [
            "loading configuration file /content/drive/MyDrive/Dissertation/DistilBert/Step_1/50_epochs/config.json\n",
            "Model config DistilBertConfig {\n",
            "  \"_name_or_path\": \"distilbert-base-uncased\",\n",
            "  \"activation\": \"gelu\",\n",
            "  \"architectures\": [\n",
            "    \"DistilBertForSequenceClassification\"\n",
            "  ],\n",
            "  \"attention_dropout\": 0.1,\n",
            "  \"dim\": 768,\n",
            "  \"dropout\": 0.1,\n",
            "  \"hidden_dim\": 3072,\n",
            "  \"initializer_range\": 0.02,\n",
            "  \"max_position_embeddings\": 512,\n",
            "  \"model_type\": \"distilbert\",\n",
            "  \"n_heads\": 12,\n",
            "  \"n_layers\": 6,\n",
            "  \"pad_token_id\": 0,\n",
            "  \"problem_type\": \"single_label_classification\",\n",
            "  \"qa_dropout\": 0.1,\n",
            "  \"seq_classif_dropout\": 0.2,\n",
            "  \"sinusoidal_pos_embds\": false,\n",
            "  \"tie_weights_\": true,\n",
            "  \"torch_dtype\": \"float32\",\n",
            "  \"transformers_version\": \"4.9.2\",\n",
            "  \"vocab_size\": 30522\n",
            "}\n",
            "\n",
            "loading weights file /content/drive/MyDrive/Dissertation/DistilBert/Step_1/50_epochs/pytorch_model.bin\n",
            "All model checkpoint weights were used when initializing DistilBertForSequenceClassification.\n",
            "\n",
            "All the weights of DistilBertForSequenceClassification were initialized from the model checkpoint at /content/drive/MyDrive/Dissertation/DistilBert/Step_1/50_epochs.\n",
            "If your task is similar to the task the model of the checkpoint was trained on, you can already use DistilBertForSequenceClassification for predictions without further training.\n",
            "Didn't find file /content/drive/MyDrive/Dissertation/DistilBert/Step_1/50_epochs/added_tokens.json. We won't load it.\n",
            "loading file /content/drive/MyDrive/Dissertation/DistilBert/Step_1/50_epochs/vocab.txt\n",
            "loading file /content/drive/MyDrive/Dissertation/DistilBert/Step_1/50_epochs/tokenizer.json\n",
            "loading file None\n",
            "loading file /content/drive/MyDrive/Dissertation/DistilBert/Step_1/50_epochs/special_tokens_map.json\n",
            "loading file /content/drive/MyDrive/Dissertation/DistilBert/Step_1/50_epochs/tokenizer_config.json\n",
            "No `TrainingArguments` passed, using `output_dir=tmp_trainer`.\n",
            "PyTorch: setting up devices\n",
            "The default value for the training argument `--report_to` will change in v5 (from all installed integrations to none). In v5, you will need to use `--report_to all` to get the same behavior as now. You should start updating your code and make this info disappear :-).\n",
            "***** Running Prediction *****\n",
            "  Num examples = 60348\n",
            "  Batch size = 8\n"
          ],
          "name": "stderr"
        },
        {
          "output_type": "display_data",
          "data": {
            "text/html": [
              "\n",
              "    <div>\n",
              "      \n",
              "      <progress value='7544' max='7544' style='width:300px; height:20px; vertical-align: middle;'></progress>\n",
              "      [7544/7544 09:16]\n",
              "    </div>\n",
              "    "
            ],
            "text/plain": [
              "<IPython.core.display.HTML object>"
            ]
          },
          "metadata": {}
        }
      ]
    }
  ]
}